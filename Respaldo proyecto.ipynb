{
 "cells": [
  {
   "cell_type": "code",
   "execution_count": null,
   "metadata": {},
   "outputs": [],
   "source": [
    "entrada1 = input(f\"pregunta 1: De las siguientes materias ¿Cual es tu favorita?: \\n\\n\\t\\t1. Matematicas-Fisica\\n\\t\\t2. Computacion\\n\\t\\t3. Quimica\\n\\nRespuesta: \")\n",
    "\n",
    "while (entrada1 != 1 or \"uno\" or  12 or \"dos\" or 3 or \"tres\"):\n",
    "    entrada1 = input(f\"pregunta 1: De las siguientes materias ¿Cual es tu favorita?: \\n\\n\\t\\t1. Matematicas-Fisica\\n\\t\\t2. Computacion\\n\\t\\t3. Quimica\\n\\nRespuesta: \")\n",
    "\n",
    "\n",
    "if(entrada1 == \"1\" or \"uno\"):\n",
    "    respuesta1 = 10\n",
    "elif (entrada1 == \"2\" or \"dos\"): \n",
    "    respuesta1 = 20\n",
    "elif (entrada1 == \"3\" or \"tres\"):\n",
    "    respuesta1 = 30 \n",
    "\n",
    "print(f\"El valor de respuesta1 es: {respuesta1}\")\n",
    "    "
   ]
  }
 ],
 "metadata": {
  "kernelspec": {
   "display_name": "Python 3.10.6 64-bit (microsoft store)",
   "language": "python",
   "name": "python3"
  },
  "language_info": {
   "name": "python",
   "version": "3.10.6"
  },
  "orig_nbformat": 4,
  "vscode": {
   "interpreter": {
    "hash": "db5c43b7c50d1157d63ea30954c73ad5fd3d64c742a45715e7a9fc7cdf370061"
   }
  }
 },
 "nbformat": 4,
 "nbformat_minor": 2
}
